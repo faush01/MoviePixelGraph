{
 "cells": [
  {
   "cell_type": "code",
   "execution_count": null,
   "metadata": {
    "tags": []
   },
   "outputs": [],
   "source": [
    "%matplotlib inline\n",
    "import matplotlib\n",
    "import numpy as np\n",
    "import matplotlib.pyplot as plt\n",
    "import os"
   ]
  },
  {
   "cell_type": "code",
   "execution_count": null,
   "metadata": {
    "collapsed": false,
    "jupyter": {
     "outputs_hidden": false
    }
   },
   "outputs": [],
   "source": [
    "dataPath = \"..\\\\Extraction\\\\pixels.tsv\" \n",
    "\n",
    "pixels = []\n",
    "with open(dataPath, \"r\") as pixel_data:\n",
    "    line = pixel_data.readline()\n",
    "    while line != \"\":\n",
    "        tokens = line.split(\"\\t\")\n",
    "        pixels.append((int(tokens[0]), int(tokens[1]), int(tokens[2])))\n",
    "        line = pixel_data.readline()\n",
    "\n",
    "total_pixels = len(pixels)\n",
    "print (\"Number of pixels : \" + str(total_pixels))\n",
    "\n",
    "avg_over = int(total_pixels / 1080)\n",
    "print (\"Avg Over : \" + str(avg_over))\n",
    "reduced_set = []\n",
    "colour_set = []\n",
    "count = 0\n",
    "current_value = 0;\n",
    "current_colour = (0, 0, 0)\n",
    "max_value = 0;\n",
    "for pixel in pixels:\n",
    "    if count == avg_over:\n",
    "        amp_val = int(current_value / avg_over)\n",
    "        reduced_set.append(amp_val)\n",
    "        if(amp_val > max_value):\n",
    "            max_value = amp_val\n",
    "        current_value = 0\n",
    "        current_colour = (\n",
    "            int(current_colour[0] / avg_over), \n",
    "            int(current_colour[1] / avg_over),\n",
    "            int(current_colour[2] / avg_over))\n",
    "        colour_set.append(current_colour)\n",
    "        current_colour = (0, 0, 0)\n",
    "        count = 0\n",
    "    else:\n",
    "        count += 1\n",
    "        grayScale = int(((pixel[0] * 0.3) + (pixel[1] * 0.59) + (pixel[2] * 0.11)))\n",
    "        current_value += grayScale\n",
    "        current_colour = (current_colour[0] + pixel[0], current_colour[1] + pixel[1], current_colour[2] + pixel[2])\n",
    "        \n",
    "print (\"reduced_set count : \" + str(len(reduced_set)))\n",
    "#print (str(reduced_set))\n",
    "print (\"colour_set count : \" + str(len(colour_set)))\n",
    "#print (str(colour_set))\n",
    "print (\"Max Amp Value : \" + str(max_value))"
   ]
  },
  {
   "cell_type": "code",
   "execution_count": null,
   "metadata": {
    "collapsed": false,
    "jupyter": {
     "outputs_hidden": false
    }
   },
   "outputs": [],
   "source": [
    "center = 50\n",
    "maxY = 256 + center\n",
    "normaliseMult = 256.0 / float(max_value)\n",
    "\n",
    "normalisedSet = []\n",
    "for raw in reduced_set:\n",
    "    normalisedSet.append(int(float(raw) * normaliseMult))\n",
    "\n",
    "#data = np.array(reduced_set)\n",
    "data = np.array(normalisedSet)\n",
    "\n",
    "N = len(data)\n",
    "theta = np.linspace(0.0, 2 * np.pi, N, endpoint=False)\n",
    "radii = data\n",
    "width = 2 * np.pi / N\n",
    "\n",
    "ax = plt.subplot(111, polar=True)\n",
    "ax.grid(visible=False)\n",
    "ax.spines['polar'].set_visible(False)\n",
    "\n",
    "# render a line to smooth the tops of the bars\n",
    "add_smother = True\n",
    "if add_smother:\n",
    "    radiiLine = []\n",
    "    for i in data:\n",
    "        radiiLine.append(i + 50)\n",
    "    ax.plot(theta, radiiLine, color='black', linewidth=3)\n",
    "\n",
    "bars = ax.bar(theta, radii, width=width, bottom=center)\n",
    "ax.yaxis.set_ticks([])\n",
    "ax.xaxis.set_ticks([])\n",
    "\n",
    "index = 0.0\n",
    "count = 0\n",
    "for r, bar in zip(theta, bars):\n",
    "    myColor = (colour_set[count][0] / 256.0,\n",
    "               colour_set[count][1] / 256.0,\n",
    "               colour_set[count][2] / 256.0)\n",
    "    bar.set_facecolor(myColor)\n",
    "    bar.set_edgecolor(myColor)\n",
    "    bar.set_alpha(0.8)\n",
    "    count += 1\n",
    "    \n",
    "fig_size = plt.rcParams[\"figure.figsize\"]\n",
    "#fig_size[0] = 30\n",
    "#fig_size[1] = 15\n",
    "plt.rcParams[\"figure.figsize\"] = fig_size\n",
    "plt.ylim((0, maxY))\n",
    "plt.savefig('..\\\\movie_polar.png')\n",
    "plt.show()"
   ]
  },
  {
   "cell_type": "code",
   "execution_count": null,
   "metadata": {},
   "outputs": [],
   "source": []
  }
 ],
 "metadata": {
  "kernelspec": {
   "display_name": "Python 3 (ipykernel)",
   "language": "python",
   "name": "python3"
  },
  "language_info": {
   "codemirror_mode": {
    "name": "ipython",
    "version": 3
   },
   "file_extension": ".py",
   "mimetype": "text/x-python",
   "name": "python",
   "nbconvert_exporter": "python",
   "pygments_lexer": "ipython3",
   "version": "3.8.12"
  }
 },
 "nbformat": 4,
 "nbformat_minor": 4
}
